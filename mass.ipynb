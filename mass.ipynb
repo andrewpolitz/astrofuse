{
 "cells": [
  {
   "cell_type": "code",
   "execution_count": 1,
   "id": "a59bb5f4",
   "metadata": {},
   "outputs": [],
   "source": [
    "import numpy as np"
   ]
  },
  {
   "cell_type": "code",
   "execution_count": 12,
   "id": "7e0dba72",
   "metadata": {},
   "outputs": [
    {
     "data": {
      "text/plain": [
       "12147.988030969647"
      ]
     },
     "execution_count": 12,
     "metadata": {},
     "output_type": "execute_result"
    }
   ],
   "source": [
    "UN_rho = 11.3\n",
    "pin_fuel_mass = np.pi * 0.575 ** 2 * 1000 * UN_rho / 1000 #volume of a cylinder times the fuel density, in kg\n",
    "bundle_fuel_mass = 15 * pin_fuel_mass\n",
    "bundles = 69\n",
    "total_fuel_mass = bundle_fuel_mass * bundles\n",
    "total_fuel_mass"
   ]
  },
  {
   "cell_type": "code",
   "execution_count": 14,
   "id": "3ac3a8cc",
   "metadata": {},
   "outputs": [
    {
     "data": {
      "text/plain": [
       "10750.13924645817"
      ]
     },
     "execution_count": 14,
     "metadata": {},
     "output_type": "execute_result"
    }
   ],
   "source": [
    "FeCrAl_rho = 7.15\n",
    "pin_Fe_mass = np.pi * 0.68 ** 2 * 1000 * FeCrAl_rho / 1000\n",
    "bundle_Fe_mass = 15 * pin_Fe_mass\n",
    "total_Fe_mass = bundle_Fe_mass * bundles\n",
    "total_Fe_mass"
   ]
  },
  {
   "cell_type": "code",
   "execution_count": 20,
   "id": "b90bfdc2",
   "metadata": {},
   "outputs": [
    {
     "data": {
      "text/plain": [
       "9244.096814828496"
      ]
     },
     "execution_count": 20,
     "metadata": {},
     "output_type": "execute_result"
    }
   ],
   "source": [
    "pipe_Fe_mass = np.pi * (0.66 + 0.75) ** 2 * 1000 * FeCrAl_rho / 1000\n",
    "bundle_pipe_Fe_mass = 3 * pipe_Fe_mass\n",
    "total_pipe_Fe_mass = 69 * bundle_pipe_Fe_mass\n",
    "total_pipe_Fe_mass"
   ]
  },
  {
   "cell_type": "code",
   "execution_count": 21,
   "id": "111bce44",
   "metadata": {},
   "outputs": [
    {
     "data": {
      "text/plain": [
       "175.05647238309857"
      ]
     },
     "execution_count": 21,
     "metadata": {},
     "output_type": "execute_result"
    }
   ],
   "source": [
    "Li_rho = 0.534\n",
    "pipe_Li_mass = np.pi * (0.71) ** 2 * 1000 * Li_rho / 1000\n",
    "bundle_pipe_Li_mass = 3 * pipe_Li_mass\n",
    "total_pipe_Li_mass = 69 * bundle_pipe_Li_mass\n",
    "total_pipe_Li_mass"
   ]
  }
 ],
 "metadata": {
  "kernelspec": {
   "display_name": "base",
   "language": "python",
   "name": "python3"
  },
  "language_info": {
   "codemirror_mode": {
    "name": "ipython",
    "version": 3
   },
   "file_extension": ".py",
   "mimetype": "text/x-python",
   "name": "python",
   "nbconvert_exporter": "python",
   "pygments_lexer": "ipython3",
   "version": "3.12.7"
  }
 },
 "nbformat": 4,
 "nbformat_minor": 5
}
