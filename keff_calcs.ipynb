{
 "cells": [
  {
   "cell_type": "code",
   "execution_count": 4,
   "id": "a1291051",
   "metadata": {},
   "outputs": [],
   "source": [
    "import os\n",
    "import re\n",
    "import matplotlib.pyplot as plt\n",
    "\n",
    "def extract_keff_and_error(file_path):\n",
    "    with open(file_path, 'r') as f:\n",
    "        for line in f:\n",
    "            if 'ANA_KEFF' in line:\n",
    "                try:\n",
    "                    keff_val = float(line[47:58])\n",
    "                    keff_err = float(line[59:66])\n",
    "                    return keff_val, keff_err\n",
    "                except ValueError:\n",
    "                    pass\n",
    "    return None, None\n",
    "\n",
    "def get_numeric_suffix(filename):\n",
    "    # Match something like: fission_blanket_hex_10_res.m → 10\n",
    "    #match = re.search(r'fission_blanket_hex_(\\d+)_res\\.m$', filename)\n",
    "    #match = re.search(r'input_(\\d+)_(\\d+)_(d+)\\.txt_res\\.m$', filename)\n",
    "    #return int(match.group(1)) if match else float('inf')\n",
    "    match = re.search(r'input(\\d+)_15_(\\d+)\\.txt_res', filename)\n",
    "    return match.group(1) if match else \"\"\n",
    "\n",
    "def read_keff_from_folder(folder_path):\n",
    "    keff_values = []\n",
    "    keff_errors = []\n",
    "    numeric_labels = []\n",
    "\n",
    "    all_files = [f for f in os.listdir(folder_path) if f.endswith('_res.m')]\n",
    "    sorted_files = sorted(all_files, key=get_numeric_suffix)\n",
    "\n",
    "    for file_name in sorted_files:\n",
    "        number = get_numeric_suffix(file_name)\n",
    "        file_path = os.path.join(folder_path, file_name)\n",
    "        keff, err = extract_keff_and_error(file_path)\n",
    "        if keff is not None:\n",
    "            keff_values.append(keff)\n",
    "            keff_errors.append(err)\n",
    "            numeric_labels.append(number)\n",
    "\n",
    "    return numeric_labels, keff_values, keff_errors\n",
    "\n",
    "def plot_keff(labels, keff_values, keff_errors):\n",
    "    if not labels:\n",
    "        print(\"[ERROR] No keff data found.\")\n",
    "        return\n",
    "    plt.figure(figsize=(10, 5))\n",
    "    plt.errorbar(labels, keff_values, yerr=keff_errors, fmt='o-', capsize=5)\n",
    "    plt.xticks(labels)\n",
    "    plt.xlabel('Reflector Thickness [cm]')\n",
    "    plt.ylabel('keff')\n",
    "    plt.title('Optimal Reflector Thickness')\n",
    "    plt.grid(True)\n",
    "    plt.tight_layout()\n",
    "    plt.show()\n",
    "\n",
    "# === Your folder here ===\n",
    "folder_path = '/Users/maxle/Desktop/Desktop2/Dual/10_15_20' \n",
    "\n",
    "\n",
    "#labels, keff_values, keff_errors = read_keff_from_folder(folder_path)\n",
    "#plot_keff(labels, keff_values, keff_errors)\n",
    "\n",
    "\n"
   ]
  },
  {
   "cell_type": "code",
   "execution_count": null,
   "id": "f9f1e614",
   "metadata": {},
   "outputs": [],
   "source": []
  },
  {
   "cell_type": "code",
   "execution_count": null,
   "id": "98e60d9d",
   "metadata": {},
   "outputs": [],
   "source": [
    "klist = []"
   ]
  },
  {
   "cell_type": "code",
   "execution_count": 68,
   "id": "34f466ec",
   "metadata": {},
   "outputs": [
    {
     "name": "stdout",
     "output_type": "stream",
     "text": [
      "[[0.845421], [0.89979], [0.921836], [0.922618], [0.923069], [0.974043], [0.991965], [0.993309], [0.977249], [1.01773], [1.03645], [1.03919], [1.01082], [1.04911], [1.06886], [1.06874], [1.03379], [1.06907], [1.08694], [1.08955], [1.04957], [1.08394], [1.1005], [1.10353], [1.06175], [1.09295], [1.11358], [1.11205], [1.06935], [1.10112], [1.11948], [1.11953], [1.07516], [1.10624], [1.12394], [1.12576], [1.07938], [1.11196], [1.12865], [1.12978]]\n"
     ]
    }
   ],
   "source": [
    "\n",
    "klist.append(read_keff_from_folder('/Users/maxle/Desktop/Desktop2/Dual/100_15_40')[1])\n",
    "print(klist)"
   ]
  },
  {
   "cell_type": "code",
   "execution_count": 73,
   "id": "25aad750",
   "metadata": {},
   "outputs": [
    {
     "name": "stdout",
     "output_type": "stream",
     "text": [
      "[[0.845421], [0.89979], [0.921836], [0.922618], [0.923069], [0.974043], [0.991965], [0.993309], [0.977249], [1.01773], [1.03645], [1.03919], [1.01082], [1.04911], [1.06886], [1.06874], [1.03379], [1.06907], [1.08694], [1.08955], [1.04957], [1.08394], [1.1005], [1.10353], [1.06175], [1.09295], [1.11358], [1.11205], [1.06935], [1.10112], [1.11948], [1.11953], [1.07516], [1.10624], [1.12394], [1.12576], [1.07938], [1.11196], [1.12865], [1.12978]]\n"
     ]
    }
   ],
   "source": [
    "print(klist)"
   ]
  },
  {
   "cell_type": "code",
   "execution_count": 69,
   "id": "6369ccaf",
   "metadata": {},
   "outputs": [],
   "source": [
    "innerlist = [10, 20, 30, 40, 10, 20, 30, 40, 10, 20, 30, 40, 10, 20, 30, 40, 10, 20, 30, 40, 10, 20, 30, 40, 10, 20, 30, 40, 10, 20, 30, 40, 10, 20, 30, 40, 10, 20, 30, 40]"
   ]
  },
  {
   "cell_type": "code",
   "execution_count": 71,
   "id": "288cc0b1",
   "metadata": {},
   "outputs": [],
   "source": [
    "outerlist = [10, 10, 10, 10, 20, 20, 20, 20, 30, 30, 30, 30, 40, 40, 40, 40, 50, 50, 50, 50, 60, 60, 60, 60, 70, 70, 70, 70, 80, 80, 80, 80, 90, 90, 90, 90, 100, 100, 100, 100]"
   ]
  },
  {
   "cell_type": "code",
   "execution_count": 74,
   "id": "4a50c687",
   "metadata": {},
   "outputs": [
    {
     "name": "stdout",
     "output_type": "stream",
     "text": [
      "40 40 40\n"
     ]
    }
   ],
   "source": [
    "print(len(klist), len(innerlist), len(outerlist))"
   ]
  },
  {
   "cell_type": "code",
   "execution_count": 85,
   "id": "a7d413da",
   "metadata": {},
   "outputs": [],
   "source": [
    "import numpy as np\n",
    "def cylvol(inner, outer, height = 100):\n",
    "     fus_radius = 25 #25 cm of fusion core radius\n",
    "     fis_radius = 15 #15 cm of fission blanket radius\n",
    "     shell_vol = np.pi * height * (((inner + fus_radius)**2 - fus_radius**2) + ((outer + fis_radius + inner + fus_radius)**2 - (fis_radius + inner + fus_radius)**2))\n",
    "     cap_vol = np.pi * 2 * outer * (outer + fis_radius + inner + fus_radius)**2\n",
    "     tot_vol = shell_vol + cap_vol\n",
    "     return tot_vol"
   ]
  }
 ],
 "metadata": {
  "kernelspec": {
   "display_name": "Python 3",
   "language": "python",
   "name": "python3"
  },
  "language_info": {
   "codemirror_mode": {
    "name": "ipython",
    "version": 3
   },
   "file_extension": ".py",
   "mimetype": "text/x-python",
   "name": "python",
   "nbconvert_exporter": "python",
   "pygments_lexer": "ipython3",
   "version": "3.11.1"
  }
 },
 "nbformat": 4,
 "nbformat_minor": 5
}
