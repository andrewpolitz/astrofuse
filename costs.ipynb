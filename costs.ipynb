{
 "cells": [
  {
   "cell_type": "code",
   "execution_count": 11,
   "id": "a59bb5f4",
   "metadata": {},
   "outputs": [],
   "source": [
    "import numpy as np\n",
    "import scipy.constants as cn"
   ]
  },
  {
   "cell_type": "code",
   "execution_count": null,
   "id": "7e0dba72",
   "metadata": {},
   "outputs": [
    {
     "data": {
      "text/plain": [
       "28814.76039127842"
      ]
     },
     "execution_count": 51,
     "metadata": {},
     "output_type": "execute_result"
    }
   ],
   "source": [
    "enrichment = 0.1975\n",
    "UMM = enrichment * 235 + ((1 - enrichment) * 238)\n",
    "N15_MM = 15 #approx 15, 98% N15\n",
    "N15_rho = (N15_MM / (N15_MM + UMM)) * 14.31\n",
    "UN_rho = (UMM / (UMM + N15_MM)) * 14.31\n",
    "UO2_rho = (UMM / (UMM + 2 * 16)) * 10.96\n",
    "pin_fuel_mass = np.pi * 0.645** 2 * 1000 * 14.31/ 1000 #volume of a cylinder times the fuel density, in kg\n",
    "pin_fuel_U_mass = np.pi * 0.645** 2 * 1000 * UN_rho / 1000\n",
    "fuel_pins = 1638 #From the serpent file\n",
    "total_fuel_mass = pin_fuel_mass * fuel_pins #in kg\n",
    "HALEU_cost = 12500#Approx\n",
    "fuel_cost = total_fuel_mass * HALEU_cost\n"
   ]
  },
  {
   "cell_type": "code",
   "execution_count": 70,
   "id": "b0d70d5e",
   "metadata": {},
   "outputs": [],
   "source": [
    "pin_volume = np.pi * 1000 * (0.75)**2\n",
    "pipe_volume = pin_volume\n",
    "heat_pipes = 552 #From the serpent file"
   ]
  },
  {
   "cell_type": "code",
   "execution_count": null,
   "id": "ae55e20e",
   "metadata": {},
   "outputs": [
    {
     "data": {
      "text/plain": [
       "29441.317743392236"
      ]
     },
     "execution_count": 85,
     "metadata": {},
     "output_type": "execute_result"
    }
   ],
   "source": [
    "\n",
    "blanket_graphite_mass = (np.pi * 1000 * ((25 + 30 + 20)**2 - (25 + 30)**2) - pin_volume * fuel_pins - pipe_volume * heat_pipes) * 1.7\n",
    "inner_reflector_graphite_mass = np.pi * 1000 * ((25 + 30)**2 - 25**2) * 1.7\n",
    "outer_reflector_graphite_mass = np.pi * 1000 * ((25 + 30 + 20 + 10)**2 - (25 + 30 + 20)**2) * 1.7\n",
    "cap_graphite_mass = 2 * np.pi * 10 * (25 + 30 + 20 + 10)**2 * 1.7\n",
    "total_graphite_mass = (blanket_graphite_mass + inner_reflector_graphite_mass + outer_reflector_graphite_mass + cap_graphite_mass) * 1e-3 #in kg\n",
    "total_graphite_mass"
   ]
  },
  {
   "cell_type": "code",
   "execution_count": 87,
   "id": "111bce44",
   "metadata": {},
   "outputs": [
    {
     "data": {
      "text/plain": [
       "2176.288914884717"
      ]
     },
     "execution_count": 87,
     "metadata": {},
     "output_type": "execute_result"
    }
   ],
   "source": [
    "Li_rho = 0.534\n",
    "pipe_Li_mass = np.pi * ((0.64 + 0.66 + 0.71) ** 2 - (0.64 + 0.66)**2) * 1000 * Li_rho * 1e-3 #in kg\n",
    "total_Li_mass = pipe_Li_mass * heat_pipes\n",
    "total_Li_mass"
   ]
  },
  {
   "cell_type": "code",
   "execution_count": 90,
   "id": "3ac3a8cc",
   "metadata": {},
   "outputs": [
    {
     "data": {
      "text/plain": [
       "4.93086142035109"
      ]
     },
     "execution_count": 90,
     "metadata": {},
     "output_type": "execute_result"
    }
   ],
   "source": [
    "Zr1_rho = 8.57\n",
    "Zr7_rho = 2.571\n",
    "pipe_Zr_mass = np.pi * 1000 * (((0.66)**2 - 0.64**2) * Zr7_rho + ((0.75)**2 - (0.71)**2) * Zr1_rho) * 1e-3\n",
    "pin_Zr_mass = np.pi * 1000 * ((0.75)**2 - (0.6675)**2) * Zr1_rho * 1e-3\n",
    "total_Zr_mass = pipe_Zr_mass + pin_Zr_mass\n",
    "total_Zr_mass"
   ]
  },
  {
   "cell_type": "code",
   "execution_count": 98,
   "id": "61c733ee",
   "metadata": {},
   "outputs": [],
   "source": [
    "price_per_kg = 1500\n",
    "fusion_reactor_cost = 350e6 #Assuming 350 million based on MFTF-B\n",
    "fusion_reactor_mass = 15.7e3 #This is assuming a solid steel cylinder with the dimensions of the reactor. It's conservative, but it's the best I've got.\n",
    "crew_quarters_mass = 14300\n",
    "crew_quarters_cost = crew_quarters_mass * price_per_kg\n",
    "truss_mass_per_m = 1225\n",
    "truss_len = 50\n",
    "total_truss_mass = truss_mass_per_m * truss_len"
   ]
  },
  {
   "cell_type": "code",
   "execution_count": 99,
   "id": "20b339de",
   "metadata": {},
   "outputs": [
    {
     "data": {
      "text/plain": [
       "227.53094686646358"
      ]
     },
     "execution_count": 99,
     "metadata": {},
     "output_type": "execute_result"
    }
   ],
   "source": [
    "total_mass = total_fuel_mass + total_graphite_mass + total_Li_mass + total_Zr_mass + fusion_reactor_mass + crew_quarters_mass + total_truss_mass\n",
    "total_mass_cost = price_per_kg * total_mass * 1e-6 #in millions of dollars\n",
    "total_mass_cost"
   ]
  },
  {
   "cell_type": "code",
   "execution_count": 100,
   "id": "0bc098a5",
   "metadata": {},
   "outputs": [],
   "source": [
    "operations_cost = 100 * 1e6 #Entirely estimation for the cost of operations on this mission, in millions of dollars"
   ]
  },
  {
   "cell_type": "code",
   "execution_count": 95,
   "id": "6e396bca",
   "metadata": {},
   "outputs": [
    {
     "name": "stdout",
     "output_type": "stream",
     "text": [
      "182.05886621831758\n"
     ]
    }
   ],
   "source": [
    "fuel_vol = 2140835 #cm^3, from the serpent file\n",
    "N15_MM = 15 #approx 15, 98% N15\n",
    "N15_rho = (N15_MM / (N15_MM + UMM)) * 14.31\n",
    "N15_mass = N15_rho * fuel_vol #grams\n",
    "N15_cost = N15_mass * 100 * 1e-6#Taken from OSTI, in millions of dollars\n",
    "print(N15_cost)"
   ]
  },
  {
   "cell_type": "code",
   "execution_count": 105,
   "id": "1627bf75",
   "metadata": {},
   "outputs": [
    {
     "name": "stdout",
     "output_type": "stream",
     "text": [
      "810.1849144807932\n",
      "151.6872979109757\n"
     ]
    }
   ],
   "source": [
    "total_cost = fusion_reactor_cost + total_mass_cost + operations_cost + N15_cost + fuel_cost\n",
    "print(total_cost * 1e-6)\n",
    "total_mass = total_mass_cost / 1500 * 1e3\n",
    "print(total_mass)"
   ]
  }
 ],
 "metadata": {
  "kernelspec": {
   "display_name": "Python 3",
   "language": "python",
   "name": "python3"
  },
  "language_info": {
   "codemirror_mode": {
    "name": "ipython",
    "version": 3
   },
   "file_extension": ".py",
   "mimetype": "text/x-python",
   "name": "python",
   "nbconvert_exporter": "python",
   "pygments_lexer": "ipython3",
   "version": "3.11.1"
  }
 },
 "nbformat": 4,
 "nbformat_minor": 5
}
