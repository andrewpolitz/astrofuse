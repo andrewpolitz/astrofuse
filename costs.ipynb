{
 "cells": [
  {
   "cell_type": "code",
   "execution_count": 11,
   "id": "a59bb5f4",
   "metadata": {},
   "outputs": [],
   "source": [
    "import numpy as np\n",
    "import scipy.constants as cn"
   ]
  },
  {
   "cell_type": "code",
   "execution_count": 8,
   "id": "7e0dba72",
   "metadata": {},
   "outputs": [],
   "source": [
    "enrichment = 0.1975\n",
    "UMM = enrichment * 235 + ((1 - enrichment) * 238)\n",
    "N15_MM = 15 #approx 15, 98% N15\n",
    "N15_rho = (N15_MM / (N15_MM + UMM)) * 14.31\n",
    "UN_rho = (UMM / (UMM + N15_MM)) * 14.31\n",
    "UO2_rho = (UMM / (UMM + 2 * 16)) * 10.96\n",
    "pin_fuel_mass = np.pi * 0.575 ** 2 * 1000 * UN_rho / 1000 #volume of a cylinder times the fuel density, in kg\n",
    "bundle_fuel_mass = 15 * pin_fuel_mass\n",
    "bundles = 69\n",
    "total_fuel_mass = bundle_fuel_mass * bundles\n",
    "total_fuel_mass\n",
    "HALEU_cost = 12500 * 2#Approx\n",
    "fuel_cost = total_fuel_mass * HALEU_cost\n"
   ]
  },
  {
   "cell_type": "code",
   "execution_count": 13,
   "id": "3ac3a8cc",
   "metadata": {},
   "outputs": [
    {
     "data": {
      "text/plain": [
       "10750.13924645817"
      ]
     },
     "execution_count": 13,
     "metadata": {},
     "output_type": "execute_result"
    }
   ],
   "source": [
    "FeCrAl_rho = 7.15\n",
    "pin_Fe_mass = np.pi * 0.68 ** 2 * 1000 * FeCrAl_rho / 1000\n",
    "bundle_Fe_mass = 15 * pin_Fe_mass\n",
    "total_pin_Fe_mass = bundle_Fe_mass * bundles\n",
    "total_pin_Fe_mass"
   ]
  },
  {
   "cell_type": "code",
   "execution_count": 14,
   "id": "b90bfdc2",
   "metadata": {},
   "outputs": [
    {
     "data": {
      "text/plain": [
       "9244.096814828496"
      ]
     },
     "execution_count": 14,
     "metadata": {},
     "output_type": "execute_result"
    }
   ],
   "source": [
    "pipe_Fe_mass = np.pi * (0.66 + 0.75) ** 2 * 1000 * FeCrAl_rho / 1000\n",
    "bundle_pipe_Fe_mass = 3 * pipe_Fe_mass\n",
    "total_pipe_Fe_mass = 69 * bundle_pipe_Fe_mass\n",
    "total_pipe_Fe_mass"
   ]
  },
  {
   "cell_type": "code",
   "execution_count": 15,
   "id": "111bce44",
   "metadata": {},
   "outputs": [
    {
     "data": {
      "text/plain": [
       "175.05647238309857"
      ]
     },
     "execution_count": 15,
     "metadata": {},
     "output_type": "execute_result"
    }
   ],
   "source": [
    "Li_rho = 0.534\n",
    "pipe_Li_mass = np.pi * (0.71) ** 2 * 1000 * Li_rho / 1000\n",
    "bundle_pipe_Li_mass = 3 * pipe_Li_mass\n",
    "total_pipe_Li_mass = 69 * bundle_pipe_Li_mass\n",
    "total_pipe_Li_mass"
   ]
  },
  {
   "cell_type": "code",
   "execution_count": 16,
   "id": "61c733ee",
   "metadata": {},
   "outputs": [
    {
     "name": "stdout",
     "output_type": "stream",
     "text": [
      "61250\n"
     ]
    }
   ],
   "source": [
    "price_per_kg = 1500\n",
    "fusion_reactor_cost = 350e6 #Assuming 350 million based on MFTF-B\n",
    "fusion_reactor_mass = 250e3 \n",
    "fusion_reactor_mass_cost = 250e3 * price_per_kg\n",
    "crew_quarters_mass = 14300\n",
    "crew_quarters_cost = crew_quarters_mass * price_per_kg\n",
    "truss_mass_per_m = 1225\n",
    "truss_len = 50\n",
    "print(truss_len * truss_mass_per_m)\n",
    "truss_cost = truss_mass_per_m * truss_len * price_per_kg"
   ]
  },
  {
   "cell_type": "code",
   "execution_count": 17,
   "id": "20b339de",
   "metadata": {},
   "outputs": [],
   "source": [
    "fission_blanket_mass = total_fuel_mass + total_pin_Fe_mass + total_pipe_Fe_mass + total_pipe_Li_mass\n",
    "fission_blanket_mass_cost = fission_blanket_mass * price_per_kg\n",
    "fission_blanket_cost = total_fuel_mass * 12500"
   ]
  },
  {
   "cell_type": "code",
   "execution_count": 18,
   "id": "0bc098a5",
   "metadata": {},
   "outputs": [],
   "source": [
    "operations_cost = 100 * 1e6 #Entirely estimation for the cost of operations on this mission."
   ]
  },
  {
   "cell_type": "code",
   "execution_count": 19,
   "id": "1627bf75",
   "metadata": {},
   "outputs": [
    {
     "name": "stdout",
     "output_type": "stream",
     "text": [
      "1138.6507712340797\n",
      "357.86728056463943\n"
     ]
    }
   ],
   "source": [
    "total_cost = fusion_reactor_cost + fusion_reactor_mass_cost + fission_blanket_cost + fission_blanket_mass_cost + crew_quarters_cost + truss_cost + operations_cost\n",
    "print(total_cost * 1e-6)\n",
    "total_mass = fusion_reactor_mass + fission_blanket_mass + crew_quarters_mass + (truss_len * truss_mass_per_m)\n",
    "print(total_mass * 1e-3)"
   ]
  },
  {
   "cell_type": "code",
   "execution_count": 20,
   "id": "4bdb9111",
   "metadata": {},
   "outputs": [
    {
     "name": "stdout",
     "output_type": "stream",
     "text": [
      "32.31728056463941\n"
     ]
    }
   ],
   "source": [
    "print(fission_blanket_mass * 1e-3)"
   ]
  },
  {
   "cell_type": "code",
   "execution_count": 22,
   "id": "6e396bca",
   "metadata": {},
   "outputs": [
    {
     "name": "stdout",
     "output_type": "stream",
     "text": [
      "1816142.7158463993\n"
     ]
    },
    {
     "data": {
      "text/plain": [
       "2.485441318632309"
      ]
     },
     "execution_count": 22,
     "metadata": {},
     "output_type": "execute_result"
    }
   ],
   "source": [
    "fuel_vol = 2135607 #cm^3, from the serpent file\n",
    "N15_MM = 15 #approx 15, 98% N15\n",
    "N15_rho = (N15_MM / (N15_MM + UMM)) * 14.31\n",
    "N15_mass = N15_rho * fuel_vol #grams\n",
    "print(N15_mass)\n",
    "N15_cost = N15_mass * 2990 /((155 * cn.psi * 5 * cn.liter)/(cn.physical_constants['molar gas constant'][0] * cn.convert_temperature(21, 'C', 'K')))\n",
    "N15_cost * 1e-9"
   ]
  },
  {
   "cell_type": "code",
   "execution_count": 33,
   "id": "8614e9cb",
   "metadata": {},
   "outputs": [
    {
     "data": {
      "text/plain": [
       "181.61427158463994"
      ]
     },
     "execution_count": 33,
     "metadata": {},
     "output_type": "execute_result"
    }
   ],
   "source": [
    "N15_mass * 100 * 1e-6"
   ]
  }
 ],
 "metadata": {
  "kernelspec": {
   "display_name": "Python 3",
   "language": "python",
   "name": "python3"
  },
  "language_info": {
   "codemirror_mode": {
    "name": "ipython",
    "version": 3
   },
   "file_extension": ".py",
   "mimetype": "text/x-python",
   "name": "python",
   "nbconvert_exporter": "python",
   "pygments_lexer": "ipython3",
   "version": "3.11.1"
  }
 },
 "nbformat": 4,
 "nbformat_minor": 5
}
