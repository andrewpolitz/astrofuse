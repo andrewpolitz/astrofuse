{
 "cells": [
  {
   "cell_type": "markdown",
   "id": "f1dedb78",
   "metadata": {},
   "source": [
    "### Rocket Nozzle Equations for NTP\n",
    "By Andrew Politz"
   ]
  },
  {
   "cell_type": "code",
   "execution_count": 7,
   "id": "905b166d",
   "metadata": {},
   "outputs": [],
   "source": [
    "from CoolProp.CoolProp import PropsSI\n",
    "import numpy as np"
   ]
  },
  {
   "cell_type": "code",
   "execution_count": 13,
   "id": "39a4d033",
   "metadata": {},
   "outputs": [
    {
     "name": "stdout",
     "output_type": "stream",
     "text": [
      "Density: 0.14 kg/m³\n",
      "cp: 16456.14 J/kg·K, cv: 12333.26 J/kg·K, gamma: 1.334\n"
     ]
    }
   ],
   "source": [
    "### Assumptions made\n",
    "\n",
    "\n",
    "T = 1700  # Kelvin\n",
    "P = 1e6  # Pa (1 MPa)\n",
    "\n",
    "rho = PropsSI('D', 'T', T, 'P', P, 'Hydrogen')\n",
    "cp = PropsSI('C', 'T', T, 'P', P, 'Hydrogen')\n",
    "cv = PropsSI('O', 'T', T, 'P', P, 'Hydrogen')\n",
    "gamma = cp / cv\n",
    "R = cp - cv\n",
    "print(f\"Density: {rho:.2f} kg/m³\")\n",
    "print(f\"cp: {cp:.2f} J/kg·K, cv: {cv:.2f} J/kg·K, gamma: {gamma:.3f}\")\n",
    "\n",
    "R_nozzleArea = np.linspace(300, 500, 10)\n",
    "\n"
   ]
  },
  {
   "cell_type": "code",
   "execution_count": 20,
   "id": "486811f9",
   "metadata": {},
   "outputs": [
    {
     "name": "stdout",
     "output_type": "stream",
     "text": [
      "Exit Mach number: 8.374\n",
      "5.087092649908861 kg/s\n"
     ]
    }
   ],
   "source": [
    "from scipy.optimize import fsolve\n",
    "\n",
    "def area_mach_relation(M, gamma, area_ratio):\n",
    "    lhs = area_ratio\n",
    "    rhs = (1/M) * ((2/(gamma + 1)) * (1 + ((gamma - 1)/2) * M**2))**((gamma + 1)/(2*(gamma - 1)))\n",
    "    return lhs - rhs\n",
    "\n",
    "def solve_exit_mach(area_ratio, gamma=1.41, guess=5.0):\n",
    "    solution = fsolve(area_mach_relation, guess, args=(gamma, area_ratio))\n",
    "    return solution[0]\n",
    "\n",
    "# Example usage\n",
    "epsilon = 500  # expansion ratio A_e/A_t\n",
    "gamma = cp / cv\n",
    "k = gamma\n",
    "\n",
    "M_e = solve_exit_mach(epsilon, gamma)\n",
    "print(f\"Exit Mach number: {M_e:.3f}\")\n",
    "\n",
    "A = 0.02 ##m\n",
    "\n",
    "\n",
    "m_dot = A * P * np.sqrt(gamma / (R * T)) * (2 / (k + 1))**((k+1)/(2*(k-1)))\n",
    "\n",
    "print(m_dot, \"kg/s\")"
   ]
  },
  {
   "cell_type": "code",
   "execution_count": null,
   "id": "c833afdd",
   "metadata": {},
   "outputs": [],
   "source": []
  }
 ],
 "metadata": {
  "kernelspec": {
   "display_name": "Python 3 (ipykernel)",
   "language": "python",
   "name": "python3"
  },
  "language_info": {
   "codemirror_mode": {
    "name": "ipython",
    "version": 3
   },
   "file_extension": ".py",
   "mimetype": "text/x-python",
   "name": "python",
   "nbconvert_exporter": "python",
   "pygments_lexer": "ipython3",
   "version": "3.9.13"
  }
 },
 "nbformat": 4,
 "nbformat_minor": 5
}
