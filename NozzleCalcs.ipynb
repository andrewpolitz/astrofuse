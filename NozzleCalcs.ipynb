{
 "cells": [
  {
   "cell_type": "markdown",
   "id": "cc954e00",
   "metadata": {},
   "source": [
    "### Rocket Nozzle Equations for NTP\n",
    "By Andrew Politz"
   ]
  },
  {
   "cell_type": "code",
   "execution_count": 7,
   "id": "604d51fc",
   "metadata": {},
   "outputs": [],
   "source": [
    "from CoolProp.CoolProp import PropsSI\n",
    "import numpy as np"
   ]
  },
  {
   "cell_type": "code",
   "execution_count": 53,
   "id": "35ee236a",
   "metadata": {},
   "outputs": [
    {
     "name": "stdout",
     "output_type": "stream",
     "text": [
      "Density: 0.28 kg/m³\n",
      "cp: 16455.76 J/kg·K, cv: 12334.48 J/kg·K, gamma: 1.334\n"
     ]
    }
   ],
   "source": [
    "### Assumptions made\n",
    "\n",
    "T = 1700 # Kelvin\n",
    "P = 2e6  # Pa (1 MPa)\n",
    "\n",
    "rho = PropsSI('D', 'T', T, 'P', P, 'Hydrogen')\n",
    "cp = PropsSI('C', 'T', T, 'P', P, 'Hydrogen')\n",
    "cv = PropsSI('O', 'T', T, 'P', P, 'Hydrogen')\n",
    "gamma = cp / cv\n",
    "R = cp - cv\n",
    "print(f\"Density: {rho:.2f} kg/m³\")\n",
    "print(f\"cp: {cp:.2f} J/kg·K, cv: {cv:.2f} J/kg·K, gamma: {gamma:.3f}\")\n",
    "\n",
    "R_nozzleArea = np.linspace(300, 500, 10)\n",
    "\n"
   ]
  },
  {
   "cell_type": "code",
   "execution_count": 59,
   "id": "a7eb8170",
   "metadata": {},
   "outputs": [
    {
     "name": "stdout",
     "output_type": "stream",
     "text": [
      "Exit Mach number: 7.613\n",
      "40.702913776225714 kg/s\n",
      "Exit Temp: 159.13904734932808 K\n",
      "Exit Velocity: 7121.2417159351535 m/s\n",
      "Thrust: 289.8552875433702 kN\n"
     ]
    }
   ],
   "source": [
    "from scipy.optimize import fsolve\n",
    "\n",
    "def area_mach_relation(M, gamma, area_ratio):\n",
    "    lhs = area_ratio\n",
    "    rhs = (1/M) * ((2/(gamma + 1)) * (1 + ((gamma - 1)/2) * M**2))**((gamma + 1)/(2*(gamma - 1)))\n",
    "    return lhs - rhs\n",
    "\n",
    "def solve_exit_mach(area_ratio, gamma=1.41, guess=5.0):\n",
    "    solution = fsolve(area_mach_relation, guess, args=(gamma, area_ratio))\n",
    "    return solution[0]\n",
    "\n",
    "# Example usage\n",
    "epsilon = 300  # expansion ratio A_e/A_t\n",
    "gamma = cp / cv\n",
    "k = gamma\n",
    "\n",
    "M_e = solve_exit_mach(epsilon, gamma)\n",
    "print(f\"Exit Mach number: {M_e:.3f}\")\n",
    "\n",
    "A = 0.08 ##m\n",
    "\n",
    "\n",
    "m_dot = A * P * np.sqrt(gamma / (R * T)) * (2 / (k + 1))**((k+1)/(2*(k-1)))\n",
    "\n",
    "print(m_dot, \"kg/s\")\n",
    "\n",
    "T_e = T * ((1 + (k - 1)/ 2 * M_e**2))**(-1)\n",
    "\n",
    "v_e = M_e * np.sqrt(k*R*T_e)\n",
    "\n",
    "thrust = v_e * m_dot\n",
    "\n",
    "print(\"Exit Temp:\", T_e, \"K\")\n",
    "print(\"Exit Velocity:\", v_e, \"m/s\")\n",
    "print(\"Thrust:\", thrust / 1000, \"kN\")"
   ]
  },
  {
   "cell_type": "code",
   "execution_count": null,
   "id": "0d79fd4e",
   "metadata": {},
   "outputs": [],
   "source": []
  },
  {
   "cell_type": "code",
   "execution_count": null,
   "id": "9801eda4",
   "metadata": {},
   "outputs": [],
   "source": []
  }
 ],
 "metadata": {
  "kernelspec": {
   "display_name": "Python 3 (ipykernel)",
   "language": "python",
   "name": "python3"
  },
  "language_info": {
   "codemirror_mode": {
    "name": "ipython",
    "version": 3
   },
   "file_extension": ".py",
   "mimetype": "text/x-python",
   "name": "python",
   "nbconvert_exporter": "python",
   "pygments_lexer": "ipython3",
   "version": "3.9.13"
  }
 },
 "nbformat": 4,
 "nbformat_minor": 5
}
